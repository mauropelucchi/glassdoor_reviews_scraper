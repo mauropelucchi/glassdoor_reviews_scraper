{
 "cells": [
  {
   "cell_type": "markdown",
   "metadata": {},
   "source": [
    "# Glassdoor Company Scraper\n",
    "\n",
    "\n",
    "This scraper downloads firms reviews from Glassdoor website.\n",
    "The scope is to create a small DB for research purposes.\n",
    "\n",
    "The notebook is organized with the following sections:\n",
    "\n",
    "- Setup of the env (install libraries, set up variables and credentials, ...)\n",
    "- Sign in with your credentials\n",
    "- Download of the index (with Selenium and Chrome Browser libraries)\n",
    "- Parse DOM of the web pages and download the reviews\n",
    "- Store the data on CSV files"
   ]
  },
  {
   "cell_type": "markdown",
   "metadata": {},
   "source": [
    "### Setup of the env\n",
    "\n",
    "Install and import of python libraries "
   ]
  },
  {
   "cell_type": "code",
   "execution_count": null,
   "metadata": {},
   "outputs": [],
   "source": [
    "!pip install selenium\n",
    "!pip install pprint\n",
    "!pip install pandas"
   ]
  },
  {
   "cell_type": "code",
   "execution_count": null,
   "metadata": {},
   "outputs": [],
   "source": [
    "import requests\n",
    "import pprint\n",
    "import pandas as pd\n",
    "import time\n",
    "from selenium import webdriver as wd\n",
    "import selenium\n",
    "import json"
   ]
  },
  {
   "cell_type": "markdown",
   "metadata": {},
   "source": [
    "Set the following variables to download data:\n",
    "\n",
    "- locations array: to download all firms from different place\n",
    "- max_page: max number of pages to index and download the firms\n",
    "- sleep_time: to be polite with glassdoor (number of seconds between different request)\n",
    "\n",
    "\n"
   ]
  },
  {
   "cell_type": "code",
   "execution_count": null,
   "metadata": {},
   "outputs": [],
   "source": [
    "locations = ['milano','roma']\n",
    "max_page = 1\n",
    "max_page_reviews = 10\n",
    "sleep_time = 1\n"
   ]
  },
  {
   "cell_type": "markdown",
   "metadata": {},
   "source": [
    "This notebook uses Chrome Driver to simulate user interaction with glassdoor.\n",
    "To set up Chrome Driver on your laptop please refer to https://chromedriver.chromium.org/downloads\n",
    "\n",
    "The notebook is tested with\n",
    "`ChromeDriver 79.0.3945.36`\n",
    "\n",
    "Please set up `chromedriver_path` to your Chrome Driver folder.\n",
    "For example:\n",
    "\n",
    "~~~~~\n",
    "chromedriver_path =  '/Users/mauropelucchi/Downloads/chromedriver2'\n",
    "~~~~~"
   ]
  },
  {
   "cell_type": "code",
   "execution_count": null,
   "metadata": {},
   "outputs": [],
   "source": [
    "chromedriver_path =  '/Users/mauropelucchi/Downloads/chromedriver2'"
   ]
  },
  {
   "cell_type": "markdown",
   "metadata": {},
   "source": [
    "### Glassdoor credentials\n",
    "\n",
    "To obtain firms reviews you have to sign in to Glassdoor.\n",
    "Please provide your credentials here:"
   ]
  },
  {
   "cell_type": "code",
   "execution_count": null,
   "metadata": {},
   "outputs": [],
   "source": [
    "username = \"XXXX@XXXX.XX\"\n",
    "password = \"XXXXXX\""
   ]
  },
  {
   "cell_type": "markdown",
   "metadata": {},
   "source": [
    "# Sign in to Glassdoor\n",
    "\n",
    "`get_browser` method sets the browser and start Chrome Driver\n",
    "\n",
    "`sign_in` simulates the user login to glassdoor:\n",
    "\n",
    "- Click the \"cookie accept button\"\n",
    "- Digit your username\n",
    "- Digit your password\n",
    "- Click the login button\n"
   ]
  },
  {
   "cell_type": "code",
   "execution_count": null,
   "metadata": {},
   "outputs": [],
   "source": [
    "# from https://github.com/MatthewChatham/glassdoor-review-scraper/blob/master/main.py\n",
    "\n",
    "def get_browser():\n",
    "    chrome_options = wd.ChromeOptions()\n",
    "    chrome_options.add_argument('log-level=3')\n",
    "    browser = wd.Chrome(chromedriver_path, options=chrome_options)\n",
    "    return browser\n",
    "\n",
    "browser = get_browser()\n",
    "\n",
    "def sign_in():\n",
    "    print(f'Signing in to {username}')\n",
    "    url = 'https://www.glassdoor.it/profile/login_input.htm'\n",
    "    browser.get(url)\n",
    "    time.sleep(4)\n",
    "    cookie_btn = browser.find_element_by_id('_evidon-accept-button')\n",
    "    cookie_btn.click()\n",
    "    email_field = browser.find_element_by_name('username')\n",
    "    password_field = browser.find_element_by_name('password')\n",
    "    submit_btn = browser.find_element_by_xpath('//button[@type=\"submit\"]')\n",
    "    email_field.send_keys(username)\n",
    "    password_field.send_keys(password)\n",
    "    submit_btn.click()\n",
    "    time.sleep(1)\n",
    "    \n",
    "sign_in()"
   ]
  },
  {
   "cell_type": "markdown",
   "metadata": {},
   "source": [
    "# Get firm data\n",
    "\n",
    "`get_firm_data` function gets a response and produces a dict with\n",
    "\n",
    "~~~~\n",
    "{'company_name': ' Accenture ',\n",
    "  'link': '/Panoramica/Lavorando-in-Accenture-EI_IE4138.13,22.htm',\n",
    "  'rating': 3.8}\n",
    "~~~~\n",
    "\n",
    "\n",
    "You can use this function to obtain the dataset of reviews for a single firm following these steps:\n",
    "\n",
    "- Set up the link to Glassdoor company page\n",
    "~~~~~\n",
    "company_url = \"https://www.glassdoor.it/Panoramica/Lavorando-in-Intesa-Sanpaolo-EI_IE10537.13,28.htm\"\n",
    "~~~~~\n",
    "- Run `get_firm_dat(company_url)`\n",
    "- Store result on a csv\n",
    "\n",
    "\n",
    "For example:\n",
    "~~~~~\n",
    "company_url = \"https://www.glassdoor.it/Panoramica/Lavorando-in-Intesa-Sanpaolo-EI_IE10537.13,28.htm\"\n",
    "reviews = get_firm_data(company_url)\n",
    "df = pd.DataFrame.from_dict(reviews)\n",
    "df = df.to_csv('reviews.csv')\n",
    "~~~~~"
   ]
  },
  {
   "cell_type": "code",
   "execution_count": null,
   "metadata": {},
   "outputs": [],
   "source": [
    "\n",
    "def get_firms():\n",
    "    doc_firms =  browser.find_elements_by_class_name('eiHdrModule')\n",
    "    print(len(doc_firms))\n",
    "    my_firms = []\n",
    "    for d_firm in doc_firms:\n",
    "        my_firm = {\"company_name\": \"\", \"rating\": 0, \"link\": \"\"}\n",
    "        my_firm['company_name'] = d_firm.find_element_by_class_name(\"tightAll\").text\n",
    "        try:\n",
    "            my_firm['rating'] = float(d_firm.find_element_by_class_name(\"ratingsSummary\").text.replace(\",\",\".\"))\n",
    "        except:\n",
    "            my_firm['rating'] = d_firm.find_element_by_class_name(\"ratingsSummary\").text.replace(\",\",\".\")\n",
    "        my_firm['link'] = d_firm.find_element_by_class_name(\"tightAll\").get_attribute('href').replace(\"Panoramica\",\"Recensioni\")\n",
    "        #api_url = \"http://api.glassdoor.com/api/api.htm?t.p=5317&t.k=n07aR34Lk3Y&userip=0.0.0.0&useragent=&format=json&v=1&action=employers&q=\"+my_firm['company_name']\n",
    "        #response = requests.get(api_url, headers = headers)\n",
    "        my_firms.append(my_firm)\n",
    "    my_firms_final = []\n",
    "    for my_firm in my_firms:\n",
    "        my_firm['reviews'] = get_firm_data(my_firm['link'])\n",
    "        my_firms_final.append(my_firm)\n",
    "    return my_firms_final\n",
    "\n",
    "def get_firm_data(link):\n",
    "    reviews = []\n",
    "    if link.endswith(\".htm\"):\n",
    "        for page_number in range(1, max_page_reviews+1):\n",
    "            page_link = link.replace(\".htm\",\"\") + \"_P\" + str(page_number) + \".htm\"\n",
    "            reviews.extend(get_firm_reviews(page_link))\n",
    "    else:\n",
    "        reviews.extend(get_firm_reviews(link))\n",
    "    return reviews\n",
    "\n",
    "def get_firm_reviews(link):\n",
    "    browser.get(link.replace(\"Panoramica\",\"Recensioni\"))\n",
    "    time.sleep(5)\n",
    "    reviews = []\n",
    "    doc_reviews =  browser.find_elements_by_class_name('empReview')\n",
    "    for doc_rev in doc_reviews:\n",
    "        main_text = doc_rev.find_element_by_class_name('mainText').text.replace('\\n',' ')\n",
    "        date = doc_rev.find_element_by_class_name('date').text.replace('\\n',' ')\n",
    "        reviewer = doc_rev.find_element_by_class_name('reviewer').text.replace('\\n',' ')\n",
    "        texts =  doc_rev.find_elements_by_class_name('common__EiReviewTextStyles__allowLineBreaks')\n",
    "        benefits = texts[0].text.replace('\\n',' ')  if len(texts) > 0 else ''\n",
    "        drawbacks = texts[1].text.replace('\\n',' ') if len(texts) > 1 else ''\n",
    "        tips = texts[2].text.replace('\\n',' ') if len(texts) > 2 else ''\n",
    "        ratings = doc_rev.find_elements_by_css_selector(\".subRatings ul li .gdBars\")\n",
    "        balance = ratings[0].get_attribute('title') if len(ratings) > 0 else ''\n",
    "        culture = ratings[1].get_attribute('title') if len(ratings) > 1 else ''\n",
    "        opportunity = ratings[2].get_attribute('title') if len(ratings) > 2 else ''\n",
    "        salary = ratings[3].get_attribute('title') if len(ratings) > 3 else ''\n",
    "        executives = ratings[4].get_attribute('title') if len(ratings) > 4 else ''\n",
    "        review = {\"main_text\": main_text, \\\n",
    "                  \"date\": date, \\\n",
    "                  \"reviewer\": reviewer, \\\n",
    "                  \"benefits\": benefits, \\\n",
    "                  \"drawbacks\": drawbacks, \\\n",
    "                  \"tips\": tips, \\\n",
    "                  \"balance\": balance, \\\n",
    "                  \"culture\": culture, \\\n",
    "                  \"opportunity\": opportunity, \\\n",
    "                  \"salary\": salary, \\\n",
    "                  \"executives\": executives\n",
    "                 }\n",
    "        reviews.append(review)\n",
    "    return reviews\n"
   ]
  },
  {
   "cell_type": "markdown",
   "metadata": {},
   "source": [
    "## Download a list of companies by locations"
   ]
  },
  {
   "cell_type": "markdown",
   "metadata": {},
   "source": [
    "`download_index` downloads the index pages from Glassdoor and calls `get_firms` to build a list of firm with its review"
   ]
  },
  {
   "cell_type": "code",
   "execution_count": null,
   "metadata": {},
   "outputs": [],
   "source": [
    "\n",
    "def download_index(location):\n",
    "    results = []\n",
    "    for page_number in range(1,max_page+1):\n",
    "        page_index = f\"https://www.glassdoor.it/Recensioni/{location}-recensioni-SRCH_IL.0,6_IM1058_IP{page_number}.htm\"\n",
    "        current_firms = []\n",
    "        print(f\"Download data from {page_index} - Page {page_number}\")\n",
    "        browser.get(page_index)\n",
    "        current_firms = get_firms()\n",
    "        results.extend(current_firms)\n",
    "        time.sleep(sleep_time)\n",
    "    return results\n",
    "        "
   ]
  },
  {
   "cell_type": "code",
   "execution_count": null,
   "metadata": {},
   "outputs": [],
   "source": [
    "total_firms = []\n",
    "for location in locations:\n",
    "    total_firms.extend(download_index(location))"
   ]
  },
  {
   "cell_type": "markdown",
   "metadata": {},
   "source": [
    "Review the downloaded data:"
   ]
  },
  {
   "cell_type": "code",
   "execution_count": null,
   "metadata": {},
   "outputs": [],
   "source": [
    "pprint.pprint(total_firms)"
   ]
  },
  {
   "cell_type": "markdown",
   "metadata": {},
   "source": [
    "Store the data on a json file:"
   ]
  },
  {
   "cell_type": "code",
   "execution_count": null,
   "metadata": {},
   "outputs": [],
   "source": [
    "with open('my_data1.json', 'w') as fp:\n",
    "    json.dump(total_firms, fp)"
   ]
  },
  {
   "cell_type": "markdown",
   "metadata": {},
   "source": [
    "## Download reviews of banks\n",
    "\n",
    "For example, we can apply this notebook to download reviews of major bank to select the best place where work.\n",
    "\n",
    "Here is an example to build a dataset for: UniCredit, Intesa Sanpaolo e Deutsche Bank.\n",
    "\n"
   ]
  },
  {
   "cell_type": "code",
   "execution_count": null,
   "metadata": {},
   "outputs": [],
   "source": [
    "company_url = \"https://www.glassdoor.it/Panoramica/Lavorando-in-Intesa-Sanpaolo-EI_IE10537.13,28.htm\"\n",
    "reviews = get_firm_data(company_url)\n",
    "df = pd.DataFrame.from_dict(reviews)\n",
    "df = df.to_csv('intesa_san_paolo.csv')"
   ]
  },
  {
   "cell_type": "code",
   "execution_count": null,
   "metadata": {},
   "outputs": [],
   "source": [
    "company_url = \"https://www.glassdoor.it/Panoramica/Lavorando-in-UniCredit-Group-EI_IE10546.13,28.htm\"\n",
    "reviews = get_firm_data(company_url)\n",
    "df = pd.DataFrame.from_dict(reviews)\n",
    "df = df.to_csv('unicredit.csv')"
   ]
  },
  {
   "cell_type": "code",
   "execution_count": null,
   "metadata": {},
   "outputs": [],
   "source": [
    "company_url = \"https://www.glassdoor.it/Panoramica/Lavorando-in-Deutsche-Bank-EI_IE3150.13,26.htm\"\n",
    "reviews = get_firm_data(company_url)\n",
    "df = pd.DataFrame.from_dict(reviews)\n",
    "df = df.to_csv('deutsche_bank.csv')"
   ]
  },
  {
   "cell_type": "code",
   "execution_count": null,
   "metadata": {},
   "outputs": [],
   "source": [
    "    "
   ]
  }
 ],
 "metadata": {
  "kernelspec": {
   "display_name": "Python 3",
   "language": "python",
   "name": "python3"
  },
  "language_info": {
   "codemirror_mode": {
    "name": "ipython",
    "version": 3
   },
   "file_extension": ".py",
   "mimetype": "text/x-python",
   "name": "python",
   "nbconvert_exporter": "python",
   "pygments_lexer": "ipython3",
   "version": "3.6.4"
  }
 },
 "nbformat": 4,
 "nbformat_minor": 2
}
